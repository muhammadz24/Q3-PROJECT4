{
  "nbformat": 4,
  "nbformat_minor": 0,
  "metadata": {
    "colab": {
      "provenance": [],
      "authorship_tag": "ABX9TyPvTvPSMlKoGspsBztFpupY",
      "include_colab_link": true
    },
    "kernelspec": {
      "name": "python3",
      "display_name": "Python 3"
    },
    "language_info": {
      "name": "python"
    }
  },
  "cells": [
    {
      "cell_type": "markdown",
      "metadata": {
        "id": "view-in-github",
        "colab_type": "text"
      },
      "source": [
        "<a href=\"https://colab.research.google.com/github/muhammadz24/Q3-PROJECT4/blob/main/00_intro_python.ipynb\" target=\"_parent\"><img src=\"https://colab.research.google.com/assets/colab-badge.svg\" alt=\"Open In Colab\"/></a>"
      ]
    },
    {
      "cell_type": "code",
      "execution_count": null,
      "metadata": {
        "colab": {
          "base_uri": "https://localhost:8080/"
        },
        "id": "QUU2oEXgZs47",
        "outputId": "3a2a3fb3-1a7b-4dc5-b970-7f35ab9587c7"
      },
      "outputs": [
        {
          "output_type": "stream",
          "name": "stdout",
          "text": [
            "01_add_two_numbers.md\n",
            "This application for add two numbers\n",
            "Enter your first number10\n",
            "Enter your second number10\n",
            "The total sum of 10 and 10 is 20\n"
          ]
        }
      ],
      "source": [
        "print(\"01_add_two_numbers.md\")\n",
        "\n",
        "def add():\n",
        "  print(\"This application for add two numbers\")\n",
        "  first_number = int(input(\"Enter your first number. \"))\n",
        "  second_number = int(input(\"Enter your second number. \"))\n",
        "  total = int(first_number + second_number)\n",
        "  print(f'The total sum of {first_number} and {second_number} is {total}')\n",
        "\n",
        "if __name__ == \"__main__\":\n",
        "  add()\n"
      ]
    },
    {
      "cell_type": "code",
      "source": [
        "print(\"02_agreement_bot\")\n",
        "\n",
        "def bot():\n",
        "  animal= str(input(\"What their favorite animal is? \"))\n",
        "  print(f'My favorite animal is also {animal} !')\n",
        "\n",
        "if __name__ == \"__main__\":\n",
        "  bot()\n"
      ],
      "metadata": {
        "id": "L2rKOVJkeSuE",
        "colab": {
          "base_uri": "https://localhost:8080/"
        },
        "outputId": "2bf5e1a9-1221-4768-9d59-85e7538cdd4d"
      },
      "execution_count": null,
      "outputs": [
        {
          "output_type": "stream",
          "name": "stdout",
          "text": [
            "02_agreement_bot\n",
            "What is Your Favourite Animal?elephant\n",
            "My favorite animal is also elephant!\n"
          ]
        }
      ]
    },
    {
      "cell_type": "code",
      "source": [
        "print(\"03_fahrenheit_to_celsius\")\n",
        "\n",
        "def temp():\n",
        "  print(\"This code for converting fahrenheit to celsius\")\n",
        "  fahrenheit_degree = float(input(\"Enter your fahrenheit  degree. \"))\n",
        "  celsius_degree = (fahrenheit_degree - 32) * 5.0 / 9.0\n",
        "  print(f'Temperature {fahrenheit_degree} F = {celsius_degree} C')\n",
        "if __name__ == \"__main__\":\n",
        "  temp()"
      ],
      "metadata": {
        "colab": {
          "base_uri": "https://localhost:8080/"
        },
        "id": "rIfMpXym58fh",
        "outputId": "ac202cd2-eeb0-48f8-f68c-6111bda39eb6"
      },
      "execution_count": null,
      "outputs": [
        {
          "output_type": "stream",
          "name": "stdout",
          "text": [
            "03_fahrenheit_to_celsius\n",
            "This code for converting fahrenheit to celsius\n",
            "Enter your fahrenheit  degree 67\n",
            "Temperature 67.0F = 19.444444444444443C\n"
          ]
        }
      ]
    },
    {
      "cell_type": "code",
      "source": [
        "print(\"04_how_old_are_they\")\n",
        "def add_ages():\n",
        "  anthon:int = 21\n",
        "  beth:int = anthon + 6\n",
        "  chen:int = beth + 20\n",
        "  drew:int = chen + anthon\n",
        "  ethan:int = chen\n",
        "\n",
        "  print(\"Anthon is \" + str(anthon))\n",
        "  print(\"Beth is \" + str(beth))\n",
        "  print(\"Chen is \" + str(chen))\n",
        "  print(\"Drew is \" + str(drew))\n",
        "  print(\"Ethan is \" + str(ethan))\n",
        "\n",
        "if __name__ == \"__main__\":\n",
        "  add_ages()"
      ],
      "metadata": {
        "colab": {
          "base_uri": "https://localhost:8080/"
        },
        "id": "WGwLfzsqJuqm",
        "outputId": "a29ff1e0-708c-41a2-d44d-265167ce26f6"
      },
      "execution_count": null,
      "outputs": [
        {
          "output_type": "stream",
          "name": "stdout",
          "text": [
            "04_how_old_are_they\n",
            "Anthon is 21\n",
            "Beth is 27\n",
            "Chen is 47\n",
            "Drew is 68\n",
            "Ethan is 47\n"
          ]
        }
      ]
    },
    {
      "cell_type": "code",
      "source": [
        "print(\"05_triangle_perimeter\")\n",
        "\n",
        "def triangle():\n",
        "  print(\"The code is about perimeter of triangle sides\")\n",
        "  side1:float = float(input(\"Enter your first side number of triangle. \"))\n",
        "  side2:float = float(input(\"Enter your second side number of triangle. \"))\n",
        "  side3:float = float(input(\"Enter your third side number of triangle. \"))\n",
        "  total:float = float(side1 + side2 + side3)\n",
        "  print(f'The perimeter of the triangle is {total}')\n",
        "\n",
        "if __name__ == \"__main__\":\n",
        "  triangle()\n"
      ],
      "metadata": {
        "colab": {
          "base_uri": "https://localhost:8080/"
        },
        "id": "vV-8CqeYMAwe",
        "outputId": "ccfbb9ee-e305-46d1-e656-fad8fa6836c4"
      },
      "execution_count": null,
      "outputs": [
        {
          "output_type": "stream",
          "name": "stdout",
          "text": [
            "05_triangle_perimeter\n",
            "The code is about perimeter of triangle sides\n",
            "Enter your first side number of triangle. 1\n",
            "Enter your second side number of triangle. 1\n",
            "Enter your third side number of triangle. 1\n",
            "The perimeter of the triangle is 3.0\n"
          ]
        }
      ]
    },
    {
      "cell_type": "code",
      "source": [
        "print(\"06_square_number\")\n",
        "\n",
        "def square():\n",
        "  print(\"This code is square of given number\")\n",
        "  num1:int = int(input(\"Enter Any Number And I Will Give You A Square Value. \"))\n",
        "  print(f'The square of {num1} is {num1 ** 2}')\n",
        "\n",
        "if __name__ == \"__main__\":\n",
        "  square()\n"
      ],
      "metadata": {
        "colab": {
          "base_uri": "https://localhost:8080/"
        },
        "id": "w76lz0fxN0mV",
        "outputId": "2cc1f14c-a564-4217-e086-ee6b633618dd"
      },
      "execution_count": null,
      "outputs": [
        {
          "output_type": "stream",
          "name": "stdout",
          "text": [
            "06_square_number\n",
            "This code is square of given number\n",
            "Enter Any Number And I Will Give You A Square Value. 2\n",
            "The square of 2 is 4\n"
          ]
        }
      ]
    }
  ]
}