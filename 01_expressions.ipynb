{
  "nbformat": 4,
  "nbformat_minor": 0,
  "metadata": {
    "colab": {
      "provenance": [],
      "authorship_tag": "ABX9TyP+JZS5IOmOBOhF3o7yh/oV",
      "include_colab_link": true
    },
    "kernelspec": {
      "name": "python3",
      "display_name": "Python 3"
    },
    "language_info": {
      "name": "python"
    }
  },
  "cells": [
    {
      "cell_type": "markdown",
      "metadata": {
        "id": "view-in-github",
        "colab_type": "text"
      },
      "source": [
        "<a href=\"https://colab.research.google.com/github/muhammadz24/Q3-PROJECT4/blob/main/01_expressions.ipynb\" target=\"_parent\"><img src=\"https://colab.research.google.com/assets/colab-badge.svg\" alt=\"Open In Colab\"/></a>"
      ]
    },
    {
      "cell_type": "code",
      "execution_count": 1,
      "metadata": {
        "colab": {
          "base_uri": "https://localhost:8080/"
        },
        "id": "9vPqRmIUjpmY",
        "outputId": "15a914b5-d559-4515-b1f9-2238cc9c71a0"
      },
      "outputs": [
        {
          "output_type": "stream",
          "name": "stdout",
          "text": [
            "01_dicesimulator\n",
            "die1 in main() start as : 10\n",
            "Total of two die 6\n",
            "Total of two die 5\n",
            "Total of two die 4\n",
            "die1 in main() start as : 10\n"
          ]
        }
      ],
      "source": [
        "import random\n",
        "print(\"01_dicesimulator\")\n",
        "\n",
        "def roll_dice():\n",
        "  die1:int = random.randint(1,6)\n",
        "  die2:int = random.randint(1,6)\n",
        "  total:int = die1 + die2\n",
        "  print(f'Total of two die {total}')\n",
        "\n",
        "\n",
        "def main():\n",
        "  die1:int = 10\n",
        "  print(\"die1 in main() start as : \" + str(die1))\n",
        "  roll_dice()\n",
        "  roll_dice()\n",
        "  roll_dice()\n",
        "  print(\"die1 in main() start as : \" + str(die1))\n",
        "\n",
        "if __name__ == \"__main__\":\n",
        "  main()"
      ]
    },
    {
      "cell_type": "code",
      "source": [
        "print(\"02_e=mc2\")\n",
        "def energy():\n",
        "  c:int = 299792458\n",
        "  m:int = float(input(\"Enter Kilos Of Mass: \"))\n",
        "  print(\"e = m*c^2\")\n",
        "  print(\"Mass = \" + str(m) + \" kg\")\n",
        "  print(\"C = \" + str(c) + \" m/s\")\n",
        "  print(\"e = \" + str(m * c ** 2) + \" joules\")\n",
        "\n",
        "if __name__ == \"__main__\":\n",
        "  energy()"
      ],
      "metadata": {
        "colab": {
          "base_uri": "https://localhost:8080/"
        },
        "id": "wVouD2I8m0nk",
        "outputId": "f018282c-e169-4ea1-e889-9af005ae066c"
      },
      "execution_count": 3,
      "outputs": [
        {
          "output_type": "stream",
          "name": "stdout",
          "text": [
            "02_e=mc2\n",
            "Enter Kilos Of Mass: 10\n",
            "e = m*c^2\n",
            "Mass = 10.0kg\n",
            "C = 299792458m/s\n",
            "e = 8.987551787368177e+17 joules\n"
          ]
        }
      ]
    },
    {
      "cell_type": "code",
      "source": [
        "print(\"03_feet_to_inches\")\n",
        "\n",
        "inch: int = 12\n",
        "\n",
        "def foot():\n",
        "  feet:int = int(input(\"Enter feet and i will convert it into inches. \"))\n",
        "  print(f'There are {inch * feet } inches in {feet} feet. ')\n",
        "\n",
        "if __name__ == \"__main__\":\n",
        "  foot()\n"
      ],
      "metadata": {
        "colab": {
          "base_uri": "https://localhost:8080/"
        },
        "id": "m-2IAG41QO8g",
        "outputId": "52667f25-2fc9-4b99-9885-04a4dcd5c663"
      },
      "execution_count": 6,
      "outputs": [
        {
          "output_type": "stream",
          "name": "stdout",
          "text": [
            "03_feet_to_inches\n",
            "Enter feet and i will convert it into inches. 10\n",
            "There are 120 inches in 10 feet. \n"
          ]
        }
      ]
    },
    {
      "cell_type": "code",
      "source": [
        "import math\n",
        "\n",
        "print(\"04_pythagorean_theorem\")\n",
        "\n",
        "def triangle():\n",
        "  ab:float = float(input(\"Enter the length of side ab: \"))\n",
        "  ac:float = float(input(\"Enter the length of side ac: \"))\n",
        "  bc:float = math.sqrt(ab**2 + ac**2)\n",
        "  print(f'The length of bc(the hypotheuse is : {bc})')\n",
        "\n",
        "if __name__ == \"__main__\":\n",
        "  triangle()"
      ],
      "metadata": {
        "colab": {
          "base_uri": "https://localhost:8080/"
        },
        "id": "-uCJYlN6RiXZ",
        "outputId": "a34985f8-bb27-4c6a-d3e4-da1e6166091b"
      },
      "execution_count": 8,
      "outputs": [
        {
          "output_type": "stream",
          "name": "stdout",
          "text": [
            "04_pythagorean_theorem\n",
            "Enter the length of side ab: 8.9\n",
            "Enter the length of side ac: 4.5\n",
            "The length of bc(the hypotheuse is : 9.972963451251589)\n"
          ]
        }
      ]
    },
    {
      "cell_type": "code",
      "source": [
        "print(\"05_remainder_division\")\n",
        "\n",
        "def remainder():\n",
        "  num1:int = int(input(\"Enter an integer to be divided : \"))\n",
        "  num2:int = int(input(\"Enter an integer to divide by : \"))\n",
        "  quotient:int = num1 // num2\n",
        "  remainder:int = num1 % num2\n",
        "  print(f'The result of division is {quotient} with a remainder of {remainder}')\n",
        "\n",
        "\n",
        "if __name__ == \"__main__\":\n",
        "  remainder()\n"
      ],
      "metadata": {
        "colab": {
          "base_uri": "https://localhost:8080/"
        },
        "id": "u8100Im9TCyK",
        "outputId": "bea7c761-ef44-4a92-fa3a-3b5c120e908c"
      },
      "execution_count": 12,
      "outputs": [
        {
          "output_type": "stream",
          "name": "stdout",
          "text": [
            "05_remainder_division\n",
            "Enter an integer to be divided : 24\n",
            "Enter an integer to divide by : 25\n",
            "The result of division is 0 with a remainder of 24\n"
          ]
        }
      ]
    },
    {
      "cell_type": "code",
      "source": [
        "import random\n",
        "print(\"06_rolldice.\")\n",
        "\n",
        "def dice():\n",
        "  die1:int = random.randint(1,6)\n",
        "  die2:int = random.randint(1,6)\n",
        "  Total:int = die1 + die2\n",
        "  print(f'Total of two die {Total}')\n",
        "  print(f\"First die: {die1}\")\n",
        "  print(f\"Second die: {die2}\")\n",
        "  print(f\"Total of two dies : {Total}\")\n",
        "\n",
        "\n",
        "\n",
        "if __name__ == \"__main__\":\n",
        "  dice()\n",
        "\n"
      ],
      "metadata": {
        "colab": {
          "base_uri": "https://localhost:8080/"
        },
        "id": "xtOfhxIFVCj4",
        "outputId": "e283d6be-22c9-43bd-a25a-b81377d2a92b"
      },
      "execution_count": 14,
      "outputs": [
        {
          "output_type": "stream",
          "name": "stdout",
          "text": [
            "06_rolldice.\n",
            "Total of two die 5\n",
            "First die: 4\n",
            "Second die: 1\n",
            "Total of two dies : 5\n"
          ]
        }
      ]
    },
    {
      "cell_type": "code",
      "source": [
        "print(\"06_seconds_in_year\")\n",
        "\n",
        "days_in_year:int = 365\n",
        "hours_per_day:int = 24\n",
        "minutes_per_hour:int = 60\n",
        "seconds_per_minute:int = 60\n",
        "\n",
        "def second():\n",
        "  print(f'There are {days_in_year * hours_per_day * minutes_per_hour * seconds_per_minute} seconds in a year!')\n",
        "\n",
        "\n",
        "if __name__ == \"__main__\":\n",
        "  second()\n"
      ],
      "metadata": {
        "colab": {
          "base_uri": "https://localhost:8080/"
        },
        "id": "9MeWnDJbY20g",
        "outputId": "3d67d67e-57d6-464a-857c-2d68d3c1fc06"
      },
      "execution_count": 16,
      "outputs": [
        {
          "output_type": "stream",
          "name": "stdout",
          "text": [
            "06_seconds_in_year\n",
            "There are 31536000 seconds in a year!\n"
          ]
        }
      ]
    },
    {
      "cell_type": "code",
      "source": [
        "print(\"07_tiny_mad_lib\")\n",
        "\n",
        "def mad_lib():\n",
        "  noun:str = input(\"Enter a noun: \")\n",
        "  adjective:str = input(\"Enter an adjective: \")\n",
        "  verb:str = input(\"Enter a verb: \")\n",
        "\n",
        "  print (f\"Do you {verb} your {adjective} {noun}? Thats's Hilarious! \")\n",
        "\n",
        "if __name__ == \"__main__\":\n",
        "  mad_lib()"
      ],
      "metadata": {
        "colab": {
          "base_uri": "https://localhost:8080/"
        },
        "id": "9649fikEZggQ",
        "outputId": "fb882037-cc33-4b94-ec8c-00dfd11ae931"
      },
      "execution_count": 21,
      "outputs": [
        {
          "output_type": "stream",
          "name": "stdout",
          "text": [
            "07_tiny_mad_lib\n",
            "Enter a noun: bark\n",
            "Enter an adjective: run \n",
            "Enter a verb: dog\n",
            "Do you dog your run  bark? Thats's Hilarious! \n"
          ]
        }
      ]
    }
  ]
}