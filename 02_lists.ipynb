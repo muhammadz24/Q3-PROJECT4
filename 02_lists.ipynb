{
  "nbformat": 4,
  "nbformat_minor": 0,
  "metadata": {
    "colab": {
      "provenance": [],
      "authorship_tag": "ABX9TyOt8zxtm19SdxFPiq/jt2nA",
      "include_colab_link": true
    },
    "kernelspec": {
      "name": "python3",
      "display_name": "Python 3"
    },
    "language_info": {
      "name": "python"
    }
  },
  "cells": [
    {
      "cell_type": "markdown",
      "metadata": {
        "id": "view-in-github",
        "colab_type": "text"
      },
      "source": [
        "<a href=\"https://colab.research.google.com/github/muhammadz24/Q3-PROJECT4/blob/main/02_lists.ipynb\" target=\"_parent\"><img src=\"https://colab.research.google.com/assets/colab-badge.svg\" alt=\"Open In Colab\"/></a>"
      ]
    },
    {
      "cell_type": "code",
      "execution_count": null,
      "metadata": {
        "colab": {
          "base_uri": "https://localhost:8080/"
        },
        "id": "LsgYIHd2dVUs",
        "outputId": "4f20c217-1e09-4440-97a5-758bd8d208fb"
      },
      "outputs": [
        {
          "output_type": "stream",
          "name": "stdout",
          "text": [
            "01_add_many_number.\n",
            "15\n"
          ]
        }
      ],
      "source": [
        "print(\"01_add_many_number.\")\n",
        "def add_number(numbers)->int:\n",
        "  num:int = 0\n",
        "  for i in numbers:\n",
        "    num += i\n",
        "  return num\n",
        "\n",
        "def man():\n",
        "  numbers:list[int] = [1,2,3,4,5]\n",
        "  sum = add_number(numbers)\n",
        "  print(sum)\n",
        "\n",
        "if __name__ == \"__main__\":\n",
        "  man()"
      ]
    },
    {
      "cell_type": "code",
      "source": [
        "print(\"02_double_list\")\n",
        "\n",
        "def main():\n",
        "  numbers:list[int] = [1,2,3,4,5]\n",
        "  for i in range(len(numbers)):\n",
        "    index = numbers[i]\n",
        "    numbers[i] = index * 2\n",
        "  print(numbers)\n",
        "\n",
        "if __name__ == \"__main__\":\n",
        "   main()\n"
      ],
      "metadata": {
        "colab": {
          "base_uri": "https://localhost:8080/"
        },
        "id": "p0-FTGp5j7eQ",
        "outputId": "7ad0a7d5-1c2e-4d44-f655-7d72469624f1"
      },
      "execution_count": null,
      "outputs": [
        {
          "output_type": "stream",
          "name": "stdout",
          "text": [
            "02_double_list\n",
            "[2, 4, 6, 8, 10]\n"
          ]
        }
      ]
    },
    {
      "cell_type": "code",
      "source": [
        "print(\"04_flowing_with_data_structures.\")\n",
        "\n",
        "def add_three_copies(list,data):\n",
        "  for i in range(3):\n",
        "    list.append(data)\n",
        "\n",
        "def main():\n",
        "  message = input(\"Enter a Message to copy. \")\n",
        "  list = []\n",
        "  print(\"Before list: \" , list)\n",
        "  add_three_copies(list,message)\n",
        "  print(\"After list: \" , list)\n",
        "\n",
        "if __name__ == \"__main__\":\n",
        "  main()\n"
      ],
      "metadata": {
        "colab": {
          "base_uri": "https://localhost:8080/"
        },
        "id": "-aU0ei8UlH6l",
        "outputId": "33f3b70c-7a60-4e23-bfb8-9c9353c685cb"
      },
      "execution_count": null,
      "outputs": [
        {
          "output_type": "stream",
          "name": "stdout",
          "text": [
            "04_flowing_with_data_structures.\n",
            "Enter a Message to copy. Hello Pakistan\n",
            "Before list:  []\n",
            "After list:  ['Hello Pakistan', 'Hello Pakistan', 'Hello Pakistan']\n"
          ]
        }
      ]
    },
    {
      "cell_type": "code",
      "source": [
        "print(\"05_get_first_element\")\n",
        "\n",
        "def get_first_element(list):\n",
        "  print(list[0])\n",
        "\n",
        "\n",
        "def get_list():\n",
        "  list = []\n",
        "  elem:str = input(\"Enter an element to add to the list. \")\n",
        "  while elem != \"\":\n",
        "    list.append(elem)\n",
        "    elem = input(\"Enter an element to add to the list. \")\n",
        "\n",
        "  return list\n",
        "\n",
        "def main():\n",
        "  list = get_list()\n",
        "  get_first_element(list)\n",
        "\n",
        "\n",
        "if __name__ == \"__main__\":\n",
        "  main()"
      ],
      "metadata": {
        "colab": {
          "base_uri": "https://localhost:8080/"
        },
        "id": "3Dnl7lN3mmxY",
        "outputId": "b5a1f8f3-2805-4281-a38e-f70f396f3141"
      },
      "execution_count": null,
      "outputs": [
        {
          "output_type": "stream",
          "name": "stdout",
          "text": [
            "05_get_first_element\n",
            "Enter an element to add to the list. a\n",
            "Enter an element to add to the list. s\n",
            "Enter an element to add to the list. f\n",
            "Enter an element to add to the list. h\n",
            "Enter an element to add to the list. y\n",
            "Enter an element to add to the list. r\n",
            "Enter an element to add to the list. w\n",
            "Enter an element to add to the list. a\n",
            "Enter an element to add to the list. k\n",
            "Enter an element to add to the list. l\n",
            "Enter an element to add to the list. y\n",
            "Enter an element to add to the list. u\n",
            "Enter an element to add to the list. 1\n",
            "Enter an element to add to the list. 2\n",
            "Enter an element to add to the list. 7\n",
            "Enter an element to add to the list. \n",
            "a\n"
          ]
        }
      ]
    },
    {
      "cell_type": "code",
      "source": [],
      "metadata": {
        "id": "4KZoj-zxpqN3"
      },
      "execution_count": null,
      "outputs": []
    },
    {
      "cell_type": "code",
      "source": [
        "print(\"06_get_last_element\")\n",
        "\n",
        "def get_last_element(list):\n",
        "  print(list[-1])\n",
        "\n",
        "\n",
        "def get_list():\n",
        "  list = []\n",
        "  elem:str = input(\"Enter an element to add to the list. \")\n",
        "  while elem != \"\":\n",
        "    list.append(elem)\n",
        "    elem = input(\"Enter an element to add to the list. \")\n",
        "\n",
        "  return list\n",
        "\n",
        "\n",
        "def main():\n",
        "  list = get_list()\n",
        "  get_last_element(list)\n",
        "\n",
        "\n",
        "if __name__ == \"__main__\":\n",
        "  main()\n"
      ],
      "metadata": {
        "colab": {
          "base_uri": "https://localhost:8080/"
        },
        "id": "I2mjZaDJoSg1",
        "outputId": "584a8880-bd63-486e-f318-d78cce4868d7"
      },
      "execution_count": null,
      "outputs": [
        {
          "output_type": "stream",
          "name": "stdout",
          "text": [
            "06_get_last_element\n",
            "Enter an element to add to the list. a\n",
            "Enter an element to add to the list. s\n",
            "Enter an element to add to the list. d\n",
            "Enter an element to add to the list. f\n",
            "Enter an element to add to the list. g\n",
            "Enter an element to add to the list. h\n",
            "Enter an element to add to the list. j\n",
            "Enter an element to add to the list. \n",
            "j\n"
          ]
        }
      ]
    },
    {
      "cell_type": "code",
      "source": [
        "print(\"07_get_list\")\n",
        "\n",
        "def main():\n",
        "  lst = []\n",
        "  val = input(\"Enter an value to add to the list. \")\n",
        "  while val:\n",
        "    lst.append(val)\n",
        "    val = input(\"Enter an value to add to the list. \")\n",
        "  print(\"Here's the list :\" , lst)\n",
        "\n",
        "if __name__ == \"__main__\":\n",
        "  main()\n"
      ],
      "metadata": {
        "colab": {
          "base_uri": "https://localhost:8080/"
        },
        "id": "-Y_ALOKOp8CD",
        "outputId": "9d57f6e1-89ab-4d33-9b50-9a1c9b84415e"
      },
      "execution_count": null,
      "outputs": [
        {
          "output_type": "stream",
          "name": "stdout",
          "text": [
            "07_get_list\n",
            "Enter an value to add to the list. ali\n",
            "Enter an value to add to the list. amna\n",
            "Enter an value to add to the list. yusra\n",
            "Enter an value to add to the list. kanwal\n",
            "Enter an value to add to the list. kiswah\n",
            "Enter an value to add to the list. \n",
            "Here's the list : ['ali', 'amna', 'yusra', 'kanwal', 'kiswah']\n"
          ]
        }
      ]
    },
    {
      "cell_type": "code",
      "source": [
        "print(\"08_shorten\")\n",
        "\n",
        "MAX_LENGTH:int = 3\n",
        "def shorten(lst):\n",
        "  while len(lst) > MAX_LENGTH:\n",
        "    last_element = lst.pop()\n",
        "    print(last_element)\n",
        "\n",
        "def get_lst():\n",
        "  lst = []\n",
        "  element = input(\"Enter an element to add to the list. \")\n",
        "  while element != \"\":\n",
        "    lst.append(element)\n",
        "    element = input(\"Enter an element to add to the list. \")\n",
        "  return lst\n",
        "\n",
        "def main():\n",
        "  lst = get_lst()\n",
        "  shorten(lst)\n",
        "\n",
        "if __name__ == \"__main__\":\n",
        "  main()\n"
      ],
      "metadata": {
        "id": "EFv1fsQNq8jb",
        "colab": {
          "base_uri": "https://localhost:8080/"
        },
        "outputId": "44738021-2239-41e7-86af-6676eefa02eb"
      },
      "execution_count": 9,
      "outputs": [
        {
          "output_type": "stream",
          "name": "stdout",
          "text": [
            "08_shorten\n",
            "Enter an element to add to the list. a\n",
            "Enter an element to add to the list. sdsd\n",
            "Enter an element to add to the list. aasas\n",
            "Enter an element to add to the list. ffdgfg\n",
            "Enter an element to add to the list. hghghg\n",
            "Enter an element to add to the list. hjhjhj\n",
            "Enter an element to add to the list. \n",
            "hjhjhj\n",
            "hghghg\n",
            "ffdgfg\n"
          ]
        }
      ]
    }
  ]
}