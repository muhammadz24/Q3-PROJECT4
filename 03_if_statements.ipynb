{
  "nbformat": 4,
  "nbformat_minor": 0,
  "metadata": {
    "colab": {
      "provenance": [],
      "authorship_tag": "ABX9TyMS20bITXk4T0jpp7n7WELl",
      "include_colab_link": true
    },
    "kernelspec": {
      "name": "python3",
      "display_name": "Python 3"
    },
    "language_info": {
      "name": "python"
    }
  },
  "cells": [
    {
      "cell_type": "markdown",
      "metadata": {
        "id": "view-in-github",
        "colab_type": "text"
      },
      "source": [
        "<a href=\"https://colab.research.google.com/github/muhammadz24/Q3-PROJECT4/blob/main/03_if_statements.ipynb\" target=\"_parent\"><img src=\"https://colab.research.google.com/assets/colab-badge.svg\" alt=\"Open In Colab\"/></a>"
      ]
    },
    {
      "cell_type": "code",
      "execution_count": 4,
      "metadata": {
        "colab": {
          "base_uri": "https://localhost:8080/"
        },
        "id": "AQCDa_OtvPdv",
        "outputId": "9a0acb08-974c-4c78-ebeb-3e9bc9df7a35"
      },
      "outputs": [
        {
          "output_type": "stream",
          "name": "stdout",
          "text": [
            "01_print_events\n",
            "Here is 20 even numbers are:  0\n",
            "Here is 20 even numbers are:  2\n",
            "Here is 20 even numbers are:  4\n",
            "Here is 20 even numbers are:  6\n",
            "Here is 20 even numbers are:  8\n",
            "Here is 20 even numbers are:  10\n",
            "Here is 20 even numbers are:  12\n",
            "Here is 20 even numbers are:  14\n",
            "Here is 20 even numbers are:  16\n",
            "Here is 20 even numbers are:  18\n",
            "Here is 20 even numbers are:  20\n",
            "Here is 20 even numbers are:  22\n",
            "Here is 20 even numbers are:  24\n",
            "Here is 20 even numbers are:  26\n",
            "Here is 20 even numbers are:  28\n",
            "Here is 20 even numbers are:  30\n",
            "Here is 20 even numbers are:  32\n",
            "Here is 20 even numbers are:  34\n",
            "Here is 20 even numbers are:  36\n",
            "Here is 20 even numbers are:  38\n",
            "Here is 20 even numbers are:  40\n",
            "Here is 20 even numbers are:  42\n",
            "Here is 20 even numbers are:  44\n",
            "Here is 20 even numbers are:  46\n",
            "Here is 20 even numbers are:  48\n",
            "Here is 20 even numbers are:  50\n",
            "Here is 20 even numbers are:  52\n",
            "Here is 20 even numbers are:  54\n",
            "Here is 20 even numbers are:  56\n",
            "Here is 20 even numbers are:  58\n",
            "Here is 20 even numbers are:  60\n",
            "Here is 20 even numbers are:  62\n",
            "Here is 20 even numbers are:  64\n",
            "Here is 20 even numbers are:  66\n",
            "Here is 20 even numbers are:  68\n",
            "Here is 20 even numbers are:  70\n",
            "Here is 20 even numbers are:  72\n",
            "Here is 20 even numbers are:  74\n",
            "Here is 20 even numbers are:  76\n",
            "Here is 20 even numbers are:  78\n"
          ]
        }
      ],
      "source": [
        "print(\"01_print_events\")\n",
        "\n",
        "def even():\n",
        "  for i in range(40):\n",
        "    print(\"Here is 20 even numbers are: \",i * 2)\n",
        "\n",
        "if __name__ == \"__main__\":\n",
        "  even()\n",
        "\n"
      ]
    },
    {
      "cell_type": "code",
      "source": [
        "print(\"02_international_voting_age\")\n",
        "\n",
        "Peturksbouipo:int = 16\n",
        "Stanlau:int = 25\n",
        "Mayengua:int = 48\n",
        "\n",
        "def main():\n",
        "  age:int = int(input(\"How Old Are You? \"))\n",
        "  if age >= Peturksbouipo:\n",
        "    print(f\"Your age is {age}. You Are Eligible To Vote In Peturksbouipo!\")\n",
        "  else:\n",
        "    print(f\"Your age is {age}. You Are Not Eligible To Vote In Peturksbouipo!\")\n",
        "\n",
        "\n",
        "  if age >= Stanlau:\n",
        "      print(f\"Your age is {age}. You Are Eligible To Vote In Stanlau!\")\n",
        "  else:\n",
        "     print(f\"Your age is {age}. You Are Not Eligible To Vote In Stanlau!\")\n",
        "\n",
        "\n",
        "  if age >= Mayengua:\n",
        "      print(f\"Your age is {age}. You Are Eligible To Vote In Mayengua!\")\n",
        "  else:\n",
        "     print(f\"Your age is {age}. You Are Not Eligible To Vote In Mayengua!\")\n",
        "\n",
        "if __name__ == \"__main__\":\n",
        "  main()"
      ],
      "metadata": {
        "colab": {
          "base_uri": "https://localhost:8080/"
        },
        "id": "RxOPKnSQloXm",
        "outputId": "3b9bbb5d-0cf4-45ee-f73e-edd31ed433b3"
      },
      "execution_count": 14,
      "outputs": [
        {
          "output_type": "stream",
          "name": "stdout",
          "text": [
            "02_international_voting_age\n",
            "How Old Are You? 40\n",
            "Your age is 40. You Are Eligible To Vote In Peturksbouipo!\n",
            "Your age is 40. You Are Eligible To Vote In Stanlau!\n",
            "Your age is 40. You Are Not Eligible To Vote In Mayengua!\n"
          ]
        }
      ]
    },
    {
      "cell_type": "code",
      "source": [
        "print(\"03_leap_year\")\n",
        "\n",
        "def leap_year():\n",
        "  year:int = int(input(\"Enter as year: \"))\n",
        "\n",
        "  if year % 4 == 0:\n",
        "    if year % 100 == 0:\n",
        "      if year % 400 == 0:\n",
        "        print(f\"{year} is a leap year\")\n",
        "      else:\n",
        "        print(f\"{year} is not a leap year\")\n",
        "    else:\n",
        "      print(f\"{year} is  a leap year\")\n",
        "  else:\n",
        "      print(f\"{year} is not a leap year\")\n",
        "\n",
        "\n",
        "\n",
        "if __name__ == \"__main__\":\n",
        "  leap_year()\n"
      ],
      "metadata": {
        "colab": {
          "base_uri": "https://localhost:8080/"
        },
        "id": "ZZ0u0RQqpfJh",
        "outputId": "428f4eaf-b86f-4d3f-88a3-131e41378d8f"
      },
      "execution_count": 43,
      "outputs": [
        {
          "output_type": "stream",
          "name": "stdout",
          "text": [
            "03_leap_year\n",
            "Enter as year: 2025\n",
            "2025 is not a leap year\n"
          ]
        }
      ]
    },
    {
      "cell_type": "code",
      "source": [
        "print(\"04_tall_enough_to_ride\")\n",
        "\n",
        "min_height:int = 50\n",
        "\n",
        "def main():\n",
        "  user:int = int(input(\"How Tall Are You? \"))\n",
        "  if user >= min_height:\n",
        "    print(\"You Are Tall Enough To Ride\")\n",
        "  else:\n",
        "    print(\"You Are Not Tall Enough To Ride.Maybe Next Year\")\n",
        "\n",
        "if __name__ == \"__main__\":\n",
        "  main()\n",
        "\n"
      ],
      "metadata": {
        "colab": {
          "base_uri": "https://localhost:8080/"
        },
        "id": "Lkk9VQGAqsCI",
        "outputId": "17ded530-6858-4bb4-bd6f-aa0016968f8c"
      },
      "execution_count": 49,
      "outputs": [
        {
          "output_type": "stream",
          "name": "stdout",
          "text": [
            "04_tall_enough_to_ride\n",
            "How Tall Are You? 5\n",
            "You Are Not Tall Enough To Ride.Maybe Next Year\n"
          ]
        }
      ]
    },
    {
      "cell_type": "code",
      "source": [
        "import random\n",
        "print(\"05_random_numbers\")\n",
        "\n",
        "def main():\n",
        "  for i in range(10):\n",
        "    num:list[int] = random.randint(1,100)\n",
        "    print(num)\n",
        "\n",
        "if __name__ == \"__main__\":\n",
        "  main()"
      ],
      "metadata": {
        "colab": {
          "base_uri": "https://localhost:8080/"
        },
        "id": "Cd4v9S7QtPPv",
        "outputId": "4ea828df-aa5c-48e1-ad42-a3e5bb70a2af"
      },
      "execution_count": 53,
      "outputs": [
        {
          "output_type": "stream",
          "name": "stdout",
          "text": [
            "05_random_numbers\n",
            "66\n",
            "78\n",
            "55\n",
            "24\n",
            "77\n",
            "59\n",
            "2\n",
            "71\n",
            "30\n",
            "66\n"
          ]
        }
      ]
    }
  ]
}